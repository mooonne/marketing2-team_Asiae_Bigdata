{
  "nbformat": 4,
  "nbformat_minor": 0,
  "metadata": {
    "kernelspec": {
      "display_name": "Python 3",
      "language": "python",
      "name": "python3"
    },
    "colab": {
      "name": "MerryChristmas_감성분석",
      "provenance": [],
      "collapsed_sections": [],
      "toc_visible": true
    },
    "accelerator": "GPU"
  },
  "cells": [
    {
      "cell_type": "code",
      "metadata": {
        "id": "HkxOyYOATfEK"
      },
      "source": [
        "!sudo apt-get install g++ openjdk-7-jdk # Install Java 1.7+\n",
        "!sudo apt-get install python-dev; pip install konlpy     # Python 2.x\n",
        "!sudo apt-get install python3-dev; pip3 install konlpy   # Python 3.x\n",
        "!sudo apt-get install curl\n",
        "!bash <(curl -s https://raw.githubusercontent.com/konlpy/konlpy/master/scripts/mecab.sh)"
      ],
      "execution_count": null,
      "outputs": []
    },
    {
      "cell_type": "code",
      "metadata": {
        "id": "keueYGNLThpp"
      },
      "source": [
        "import pandas as pd\n",
        "import numpy as np\n",
        "import matplotlib.pyplot as plt\n",
        "import urllib.request\n",
        "from collections import Counter\n",
        "from konlpy.tag import Mecab\n",
        "from sklearn.model_selection import train_test_split\n",
        "from tensorflow.keras.preprocessing.text import Tokenizer\n",
        "from tensorflow.keras.preprocessing.sequence import pad_sequences"
      ],
      "execution_count": null,
      "outputs": []
    },
    {
      "cell_type": "code",
      "metadata": {
        "colab": {
          "base_uri": "https://localhost:8080/"
        },
        "id": "MPRERCVjb5WF",
        "outputId": "d7133b5a-14df-435e-ab60-c40dc6d21284"
      },
      "source": [
        "# 파일을 열 때마다 아래 코드 실행해주세요. \n",
        "# 드라이브에 접근할 수 있도록 아래 코드 입력\n",
        "from google.colab import drive\n",
        "drive.mount('/content/drive')\n",
        "# 참고: http://growthj.link/python-%EA%B5%AC%EA%B8%80-colab%EC%9C%BC%EB%A1%9C-pd-read_csv-%ED%99%9C%EC%9A%A9%ED%95%98%EB%8A%94-%EB%B0%A9%EB%B2%95/"
      ],
      "execution_count": null,
      "outputs": [
        {
          "output_type": "stream",
          "text": [
            "Mounted at /content/drive\n"
          ],
          "name": "stdout"
        }
      ]
    },
    {
      "cell_type": "markdown",
      "metadata": {
        "id": "onJwfkucPtZ9"
      },
      "source": [
        "# 2. 데이터 불러오기"
      ]
    },
    {
      "cell_type": "code",
      "metadata": {
        "id": "77lTLTfucNyx"
      },
      "source": [
        "#불러올 파일의 경로를 filename 변수에 저장(변수 이름은 맘대로 하세여)\n",
        "#pos_rev = pd.read_csv('/content/drive/MyDrive/SSG_positive_reviews.csv')\n",
        "#nega_rev = pd.read_csv('/content/drive/MyDrive/SSG_negative_reviews.csv')"
      ],
      "execution_count": null,
      "outputs": []
    },
    {
      "cell_type": "code",
      "metadata": {
        "id": "rT-zQ4LxXjJr"
      },
      "source": [
        "ssg_total_data = pd.read_csv('/content/drive/MyDrive/빅데이터분석_마케팅2팀/colab/dataset/SSG_모든음식_리뷰csv/SSG_pos+neg_total_review.csv')"
      ],
      "execution_count": null,
      "outputs": []
    },
    {
      "cell_type": "code",
      "metadata": {
        "colab": {
          "base_uri": "https://localhost:8080/",
          "height": 204
        },
        "id": "a4ZWDm7DauqT",
        "outputId": "c51fd180-6f14-46c2-d313-baa3bc2facc4"
      },
      "source": [
        "ssg_total_data.head()"
      ],
      "execution_count": null,
      "outputs": [
        {
          "output_type": "execute_result",
          "data": {
            "text/html": [
              "<div>\n",
              "<style scoped>\n",
              "    .dataframe tbody tr th:only-of-type {\n",
              "        vertical-align: middle;\n",
              "    }\n",
              "\n",
              "    .dataframe tbody tr th {\n",
              "        vertical-align: top;\n",
              "    }\n",
              "\n",
              "    .dataframe thead th {\n",
              "        text-align: right;\n",
              "    }\n",
              "</style>\n",
              "<table border=\"1\" class=\"dataframe\">\n",
              "  <thead>\n",
              "    <tr style=\"text-align: right;\">\n",
              "      <th></th>\n",
              "      <th>comment</th>\n",
              "      <th>label</th>\n",
              "    </tr>\n",
              "  </thead>\n",
              "  <tbody>\n",
              "    <tr>\n",
              "      <th>0</th>\n",
              "      <td>쓰윽잘받았어요</td>\n",
              "      <td>0</td>\n",
              "    </tr>\n",
              "    <tr>\n",
              "      <th>1</th>\n",
              "      <td>이번 배송은 다 녹아서 왔어요</td>\n",
              "      <td>0</td>\n",
              "    </tr>\n",
              "    <tr>\n",
              "      <th>2</th>\n",
              "      <td>배송시간 못 맞춰서 분뒤에 개봉했더니 배송된 냉동만두가 거의 해동상태  고객센터 하...</td>\n",
              "      <td>0</td>\n",
              "    </tr>\n",
              "    <tr>\n",
              "      <th>3</th>\n",
              "      <td>품질 좋은거 맞냐구 말을 해봐라</td>\n",
              "      <td>0</td>\n",
              "    </tr>\n",
              "    <tr>\n",
              "      <th>4</th>\n",
              "      <td>맛있는데 먹고 나면 속이 안좋아요</td>\n",
              "      <td>0</td>\n",
              "    </tr>\n",
              "  </tbody>\n",
              "</table>\n",
              "</div>"
            ],
            "text/plain": [
              "                                             comment  label\n",
              "0                                           쓰윽잘받았어요       0\n",
              "1                                  이번 배송은 다 녹아서 왔어요       0\n",
              "2  배송시간 못 맞춰서 분뒤에 개봉했더니 배송된 냉동만두가 거의 해동상태  고객센터 하...      0\n",
              "3                                  품질 좋은거 맞냐구 말을 해봐라      0\n",
              "4                                 맛있는데 먹고 나면 속이 안좋아요      0"
            ]
          },
          "metadata": {
            "tags": []
          },
          "execution_count": 10
        }
      ]
    },
    {
      "cell_type": "code",
      "metadata": {
        "colab": {
          "base_uri": "https://localhost:8080/"
        },
        "id": "RYl7oBdEH7lZ",
        "outputId": "c4761e6f-e481-4a64-b33a-cc425113a968"
      },
      "source": [
        "len(ssg_total_data)"
      ],
      "execution_count": null,
      "outputs": [
        {
          "output_type": "execute_result",
          "data": {
            "text/plain": [
              "53184"
            ]
          },
          "metadata": {
            "tags": []
          },
          "execution_count": 11
        }
      ]
    },
    {
      "cell_type": "code",
      "metadata": {
        "colab": {
          "base_uri": "https://localhost:8080/"
        },
        "id": "_FogPV0owQSd",
        "outputId": "c647552a-cc39-43dc-d928-afd5e2284a1a"
      },
      "source": [
        "train_data, test_data = train_test_split(ssg_total_data, test_size = 0.25, random_state = 42)\n",
        "print('훈련용 리뷰의 개수 :', len(train_data))\n",
        "print('테스트용 리뷰의 개수 :', len(test_data))"
      ],
      "execution_count": null,
      "outputs": [
        {
          "output_type": "stream",
          "text": [
            "훈련용 리뷰의 개수 : 39888\n",
            "테스트용 리뷰의 개수 : 13296\n"
          ],
          "name": "stdout"
        }
      ]
    },
    {
      "cell_type": "code",
      "metadata": {
        "colab": {
          "base_uri": "https://localhost:8080/",
          "height": 280
        },
        "id": "Tlyw-Siz5t0t",
        "outputId": "79b1d329-f086-49ab-bbbe-585e2620a461"
      },
      "source": [
        "train_data['label'].value_counts().plot(kind = 'bar')"
      ],
      "execution_count": null,
      "outputs": [
        {
          "output_type": "execute_result",
          "data": {
            "text/plain": [
              "<matplotlib.axes._subplots.AxesSubplot at 0x7f871ebb3da0>"
            ]
          },
          "metadata": {
            "tags": []
          },
          "execution_count": 14
        },
        {
          "output_type": "display_data",
          "data": {
            "image/png": "[encoded data removed]",
            "text/plain": [
              "<Figure size 432x288 with 1 Axes>"
            ]
          },
          "metadata": {
            "tags": [],
            "needs_background": "light"
          }
        }
      ]
    },
    {
      "cell_type": "code",
      "metadata": {
        "colab": {
          "base_uri": "https://localhost:8080/"
        },
        "id": "pK64FbFG5t3c",
        "outputId": "41ea58be-a06e-4a54-9199-29c2f5cad36c"
      },
      "source": [
        "print(train_data.groupby('label').size().reset_index(name = 'count'))"
      ],
      "execution_count": null,
      "outputs": [
        {
          "output_type": "stream",
          "text": [
            "   label  count\n",
            "0      0  19930\n",
            "1      1  19958\n"
          ],
          "name": "stdout"
        }
      ]
    },
    {
      "cell_type": "code",
      "metadata": {
        "id": "IL_5zC_WQbmv"
      },
      "source": [
        "from konlpy.tag import Mecab\n",
        "mecab = Mecab()"
      ],
      "execution_count": null,
      "outputs": []
    },
    {
      "cell_type": "code",
      "metadata": {
        "id": "hyLecMrW9GzJ",
        "colab": {
          "base_uri": "https://localhost:8080/",
          "height": 204
        },
        "outputId": "904ba372-ed87-4e9f-c998-a23da73fc048"
      },
      "source": [
        "train_data.head(5)"
      ],
      "execution_count": null,
      "outputs": [
        {
          "output_type": "execute_result",
          "data": {
            "text/html": [
              "<div>\n",
              "<style scoped>\n",
              "    .dataframe tbody tr th:only-of-type {\n",
              "        vertical-align: middle;\n",
              "    }\n",
              "\n",
              "    .dataframe tbody tr th {\n",
              "        vertical-align: top;\n",
              "    }\n",
              "\n",
              "    .dataframe thead th {\n",
              "        text-align: right;\n",
              "    }\n",
              "</style>\n",
              "<table border=\"1\" class=\"dataframe\">\n",
              "  <thead>\n",
              "    <tr style=\"text-align: right;\">\n",
              "      <th></th>\n",
              "      <th>comment</th>\n",
              "      <th>label</th>\n",
              "    </tr>\n",
              "  </thead>\n",
              "  <tbody>\n",
              "    <tr>\n",
              "      <th>5784</th>\n",
              "      <td>아 대박 맛 없습니다</td>\n",
              "      <td>0</td>\n",
              "    </tr>\n",
              "    <tr>\n",
              "      <th>35190</th>\n",
              "      <td>살살녹아요</td>\n",
              "      <td>1</td>\n",
              "    </tr>\n",
              "    <tr>\n",
              "      <th>12488</th>\n",
              "      <td>저렴하게 구매했습니다</td>\n",
              "      <td>0</td>\n",
              "    </tr>\n",
              "    <tr>\n",
              "      <th>50795</th>\n",
              "      <td>매번 주문하는 제품이에요</td>\n",
              "      <td>1</td>\n",
              "    </tr>\n",
              "    <tr>\n",
              "      <th>11416</th>\n",
              "      <td>그닥이에요 밀가루맛 많이나고 맛없어요 양은 많음돈 더주고 맛있는 어묵 사먹는게 나아요</td>\n",
              "      <td>0</td>\n",
              "    </tr>\n",
              "  </tbody>\n",
              "</table>\n",
              "</div>"
            ],
            "text/plain": [
              "                                               comment  label\n",
              "5784                                       아 대박 맛 없습니다      0\n",
              "35190                                            살살녹아요      1\n",
              "12488                                      저렴하게 구매했습니다      0\n",
              "50795                                   매번 주문하는 제품이에요       1\n",
              "11416  그닥이에요 밀가루맛 많이나고 맛없어요 양은 많음돈 더주고 맛있는 어묵 사먹는게 나아요      0"
            ]
          },
          "metadata": {
            "tags": []
          },
          "execution_count": 19
        }
      ]
    },
    {
      "cell_type": "code",
      "metadata": {
        "id": "oMAidjVrIkGm",
        "colab": {
          "base_uri": "https://localhost:8080/",
          "height": 204
        },
        "outputId": "062960be-d42e-4414-ac3c-f2896d12c095"
      },
      "source": [
        "test_data.head(5)"
      ],
      "execution_count": null,
      "outputs": [
        {
          "output_type": "execute_result",
          "data": {
            "text/html": [
              "<div>\n",
              "<style scoped>\n",
              "    .dataframe tbody tr th:only-of-type {\n",
              "        vertical-align: middle;\n",
              "    }\n",
              "\n",
              "    .dataframe tbody tr th {\n",
              "        vertical-align: top;\n",
              "    }\n",
              "\n",
              "    .dataframe thead th {\n",
              "        text-align: right;\n",
              "    }\n",
              "</style>\n",
              "<table border=\"1\" class=\"dataframe\">\n",
              "  <thead>\n",
              "    <tr style=\"text-align: right;\">\n",
              "      <th></th>\n",
              "      <th>comment</th>\n",
              "      <th>label</th>\n",
              "    </tr>\n",
              "  </thead>\n",
              "  <tbody>\n",
              "    <tr>\n",
              "      <th>42973</th>\n",
              "      <td>아이들이 좋아하는 맛</td>\n",
              "      <td>1</td>\n",
              "    </tr>\n",
              "    <tr>\n",
              "      <th>4305</th>\n",
              "      <td>별로</td>\n",
              "      <td>0</td>\n",
              "    </tr>\n",
              "    <tr>\n",
              "      <th>4813</th>\n",
              "      <td>그냥그냥 그래요 딱히 맛은</td>\n",
              "      <td>0</td>\n",
              "    </tr>\n",
              "    <tr>\n",
              "      <th>9281</th>\n",
              "      <td>그저그래요 크기노 작고</td>\n",
              "      <td>0</td>\n",
              "    </tr>\n",
              "    <tr>\n",
              "      <th>23685</th>\n",
              "      <td>다른데 것보다 밍밍해요  별로</td>\n",
              "      <td>0</td>\n",
              "    </tr>\n",
              "  </tbody>\n",
              "</table>\n",
              "</div>"
            ],
            "text/plain": [
              "                comment  label\n",
              "42973       아이들이 좋아하는 맛      1\n",
              "4305                 별로      0\n",
              "4813     그냥그냥 그래요 딱히 맛은      0\n",
              "9281       그저그래요 크기노 작고      0\n",
              "23685  다른데 것보다 밍밍해요  별로      0"
            ]
          },
          "metadata": {
            "tags": []
          },
          "execution_count": 20
        }
      ]
    },
    {
      "cell_type": "code",
      "metadata": {
        "id": "65oRLOfrujaF"
      },
      "source": [
        "# 불용어 사전 텍스트파일 가져와서 stopwords2 라는 리스트로 만듦\n",
        "f = open(\"/content/drive/MyDrive/빅데이터분석_마케팅2팀/colab/dataset/stopwordskr.txt\", 'r')\n",
        "lines = f.readlines()\n",
        "stopwords_ex = []\n",
        "for line in lines:\n",
        "    line = line.replace('\\n', '')\n",
        "    stopwords_ex.append(line)\n",
        "f.close()"
      ],
      "execution_count": null,
      "outputs": []
    },
    {
      "cell_type": "code",
      "metadata": {
        "id": "KoxMZ0lQ7UnT"
      },
      "source": [
        "# # 불용어 사전 텍스트파일 가져와서 stopwords2 라는 리스트로 만듦\n",
        "# f = open(\"/content/drive/MyDrive/빅데이터분석_마케팅2팀/colab/dataset/근성2.txt\", 'r')\n",
        "# lines = f.readlines()\n",
        "# stopwords_ex2 = []\n",
        "# for line in lines:\n",
        "#     line = line.replace('\\n', '')\n",
        "#     stopwords_ex2.append(line)\n",
        "# f.close()"
      ],
      "execution_count": null,
      "outputs": []
    },
    {
      "cell_type": "code",
      "metadata": {
        "id": "1XfvD_Pnu-2s"
      },
      "source": [
        "# stopwordsall = stopwords_ex + stopwords_ex2"
      ],
      "execution_count": null,
      "outputs": []
    },
    {
      "cell_type": "code",
      "metadata": {
        "id": "Nd9iE7cpvFIb"
      },
      "source": [
        "# stopwords = list(set(stopwordsall))"
      ],
      "execution_count": null,
      "outputs": []
    },
    {
      "cell_type": "code",
      "metadata": {
        "colab": {
          "base_uri": "https://localhost:8080/"
        },
        "id": "d3nfHtvPvOBi",
        "outputId": "fc4a10ff-b702-4c0e-93f3-4bf080b9254f"
      },
      "source": [
        "# len(stopwordsall)"
      ],
      "execution_count": null,
      "outputs": [
        {
          "output_type": "execute_result",
          "data": {
            "text/plain": [
              "779"
            ]
          },
          "metadata": {
            "tags": []
          },
          "execution_count": 52
        }
      ]
    },
    {
      "cell_type": "code",
      "metadata": {
        "id": "RXFa5fqdQbmw",
        "colab": {
          "base_uri": "https://localhost:8080/"
        },
        "outputId": "4a12dd04-66e2-41a8-d68c-c2661cf8607d"
      },
      "source": [
        "train_data['tokenized'] = train_data['comment'].apply(mecab.morphs)\n",
        "train_data['tokenized'] = train_data['tokenized'].apply(lambda x: [item for item in x if item not in stopwords_ex])\n",
        "test_data['tokenized'] = test_data['comment'].apply(mecab.morphs)\n",
        "test_data['tokenized'] = test_data['tokenized'].apply(lambda x: [item for item in x if item not in stopwords_ex])"
      ],
      "execution_count": null,
      "outputs": [
        {
          "output_type": "stream",
          "text": [
            "/usr/local/lib/python3.6/dist-packages/ipykernel_launcher.py:1: SettingWithCopyWarning: \n",
            "A value is trying to be set on a copy of a slice from a DataFrame.\n",
            "Try using .loc[row_indexer,col_indexer] = value instead\n",
            "\n",
            "See the caveats in the documentation: https://pandas.pydata.org/pandas-docs/stable/user_guide/indexing.html#returning-a-view-versus-a-copy\n",
            "  \"\"\"Entry point for launching an IPython kernel.\n",
            "/usr/local/lib/python3.6/dist-packages/ipykernel_launcher.py:2: SettingWithCopyWarning: \n",
            "A value is trying to be set on a copy of a slice from a DataFrame.\n",
            "Try using .loc[row_indexer,col_indexer] = value instead\n",
            "\n",
            "See the caveats in the documentation: https://pandas.pydata.org/pandas-docs/stable/user_guide/indexing.html#returning-a-view-versus-a-copy\n",
            "  \n",
            "/usr/local/lib/python3.6/dist-packages/ipykernel_launcher.py:3: SettingWithCopyWarning: \n",
            "A value is trying to be set on a copy of a slice from a DataFrame.\n",
            "Try using .loc[row_indexer,col_indexer] = value instead\n",
            "\n",
            "See the caveats in the documentation: https://pandas.pydata.org/pandas-docs/stable/user_guide/indexing.html#returning-a-view-versus-a-copy\n",
            "  This is separate from the ipykernel package so we can avoid doing imports until\n",
            "/usr/local/lib/python3.6/dist-packages/ipykernel_launcher.py:4: SettingWithCopyWarning: \n",
            "A value is trying to be set on a copy of a slice from a DataFrame.\n",
            "Try using .loc[row_indexer,col_indexer] = value instead\n",
            "\n",
            "See the caveats in the documentation: https://pandas.pydata.org/pandas-docs/stable/user_guide/indexing.html#returning-a-view-versus-a-copy\n",
            "  after removing the cwd from sys.path.\n"
          ],
          "name": "stderr"
        }
      ]
    },
    {
      "cell_type": "code",
      "metadata": {
        "colab": {
          "base_uri": "https://localhost:8080/",
          "height": 204
        },
        "id": "E6fjLrlebzM-",
        "outputId": "1b728602-8922-42a1-ee27-d36b17c64fad"
      },
      "source": [
        "train_data.head()"
      ],
      "execution_count": null,
      "outputs": [
        {
          "output_type": "execute_result",
          "data": {
            "text/html": [
              "<div>\n",
              "<style scoped>\n",
              "    .dataframe tbody tr th:only-of-type {\n",
              "        vertical-align: middle;\n",
              "    }\n",
              "\n",
              "    .dataframe tbody tr th {\n",
              "        vertical-align: top;\n",
              "    }\n",
              "\n",
              "    .dataframe thead th {\n",
              "        text-align: right;\n",
              "    }\n",
              "</style>\n",
              "<table border=\"1\" class=\"dataframe\">\n",
              "  <thead>\n",
              "    <tr style=\"text-align: right;\">\n",
              "      <th></th>\n",
              "      <th>comment</th>\n",
              "      <th>label</th>\n",
              "      <th>tokenized</th>\n",
              "    </tr>\n",
              "  </thead>\n",
              "  <tbody>\n",
              "    <tr>\n",
              "      <th>5784</th>\n",
              "      <td>아 대박 맛 없습니다</td>\n",
              "      <td>0</td>\n",
              "      <td>[대박, 맛, 없]</td>\n",
              "    </tr>\n",
              "    <tr>\n",
              "      <th>35190</th>\n",
              "      <td>살살녹아요</td>\n",
              "      <td>1</td>\n",
              "      <td>[살살, 녹, 아요]</td>\n",
              "    </tr>\n",
              "    <tr>\n",
              "      <th>12488</th>\n",
              "      <td>저렴하게 구매했습니다</td>\n",
              "      <td>0</td>\n",
              "      <td>[저렴, 게, 구매, 했]</td>\n",
              "    </tr>\n",
              "    <tr>\n",
              "      <th>50795</th>\n",
              "      <td>매번 주문하는 제품이에요</td>\n",
              "      <td>1</td>\n",
              "      <td>[주문, 는, 제품, 에요]</td>\n",
              "    </tr>\n",
              "    <tr>\n",
              "      <th>11416</th>\n",
              "      <td>그닥이에요 밀가루맛 많이나고 맛없어요 양은 많음돈 더주고 맛있는 어묵 사먹는게 나아요</td>\n",
              "      <td>0</td>\n",
              "      <td>[닥, 에요, 밀가루, 맛, 많이, 고, 맛없, 어요, 양, 은, 많, 음, 돈, ...</td>\n",
              "    </tr>\n",
              "  </tbody>\n",
              "</table>\n",
              "</div>"
            ],
            "text/plain": [
              "                                               comment  ...                                          tokenized\n",
              "5784                                       아 대박 맛 없습니다  ...                                         [대박, 맛, 없]\n",
              "35190                                            살살녹아요  ...                                        [살살, 녹, 아요]\n",
              "12488                                      저렴하게 구매했습니다  ...                                     [저렴, 게, 구매, 했]\n",
              "50795                                   매번 주문하는 제품이에요   ...                                    [주문, 는, 제품, 에요]\n",
              "11416  그닥이에요 밀가루맛 많이나고 맛없어요 양은 많음돈 더주고 맛있는 어묵 사먹는게 나아요  ...  [닥, 에요, 밀가루, 맛, 많이, 고, 맛없, 어요, 양, 은, 많, 음, 돈, ...\n",
              "\n",
              "[5 rows x 3 columns]"
            ]
          },
          "metadata": {
            "tags": []
          },
          "execution_count": 23
        }
      ]
    },
    {
      "cell_type": "code",
      "metadata": {
        "colab": {
          "base_uri": "https://localhost:8080/",
          "height": 204
        },
        "id": "WxF9fUoEb6Aw",
        "outputId": "84f5cadb-1fcb-46b4-83d3-282b9c961027"
      },
      "source": [
        "test_data.head()"
      ],
      "execution_count": null,
      "outputs": [
        {
          "output_type": "execute_result",
          "data": {
            "text/html": [
              "<div>\n",
              "<style scoped>\n",
              "    .dataframe tbody tr th:only-of-type {\n",
              "        vertical-align: middle;\n",
              "    }\n",
              "\n",
              "    .dataframe tbody tr th {\n",
              "        vertical-align: top;\n",
              "    }\n",
              "\n",
              "    .dataframe thead th {\n",
              "        text-align: right;\n",
              "    }\n",
              "</style>\n",
              "<table border=\"1\" class=\"dataframe\">\n",
              "  <thead>\n",
              "    <tr style=\"text-align: right;\">\n",
              "      <th></th>\n",
              "      <th>comment</th>\n",
              "      <th>label</th>\n",
              "      <th>tokenized</th>\n",
              "    </tr>\n",
              "  </thead>\n",
              "  <tbody>\n",
              "    <tr>\n",
              "      <th>42973</th>\n",
              "      <td>아이들이 좋아하는 맛</td>\n",
              "      <td>1</td>\n",
              "      <td>[좋, 는, 맛]</td>\n",
              "    </tr>\n",
              "    <tr>\n",
              "      <th>4305</th>\n",
              "      <td>별로</td>\n",
              "      <td>0</td>\n",
              "      <td>[별로]</td>\n",
              "    </tr>\n",
              "    <tr>\n",
              "      <th>4813</th>\n",
              "      <td>그냥그냥 그래요 딱히 맛은</td>\n",
              "      <td>0</td>\n",
              "      <td>[그냥, 그냥, 그래요, 딱히, 맛, 은]</td>\n",
              "    </tr>\n",
              "    <tr>\n",
              "      <th>9281</th>\n",
              "      <td>그저그래요 크기노 작고</td>\n",
              "      <td>0</td>\n",
              "      <td>[그래요, 크기, 노, 작, 고]</td>\n",
              "    </tr>\n",
              "    <tr>\n",
              "      <th>23685</th>\n",
              "      <td>다른데 것보다 밍밍해요  별로</td>\n",
              "      <td>0</td>\n",
              "      <td>[데, 보다, 밍밍, 별로]</td>\n",
              "    </tr>\n",
              "  </tbody>\n",
              "</table>\n",
              "</div>"
            ],
            "text/plain": [
              "                comment  label                tokenized\n",
              "42973       아이들이 좋아하는 맛      1                [좋, 는, 맛]\n",
              "4305                 별로      0                     [별로]\n",
              "4813     그냥그냥 그래요 딱히 맛은      0  [그냥, 그냥, 그래요, 딱히, 맛, 은]\n",
              "9281       그저그래요 크기노 작고      0       [그래요, 크기, 노, 작, 고]\n",
              "23685  다른데 것보다 밍밍해요  별로      0          [데, 보다, 밍밍, 별로]"
            ]
          },
          "metadata": {
            "tags": []
          },
          "execution_count": 24
        }
      ]
    },
    {
      "cell_type": "code",
      "metadata": {
        "id": "a4XqxfqgQbmw"
      },
      "source": [
        "negative_words = np.hstack(train_data[train_data.label == 0]['tokenized'].values)\n",
        "positive_words = np.hstack(train_data[train_data.label == 1]['tokenized'].values)"
      ],
      "execution_count": null,
      "outputs": []
    },
    {
      "cell_type": "code",
      "metadata": {
        "colab": {
          "base_uri": "https://localhost:8080/"
        },
        "id": "yOzjy46GjA9i",
        "outputId": "9dc8567b-b076-437b-86f2-c9d3e54517a4"
      },
      "source": [
        "negative_words"
      ],
      "execution_count": null,
      "outputs": [
        {
          "output_type": "execute_result",
          "data": {
            "text/plain": [
              "array(['대박', '맛', '없', ..., '기편', '해서', '자주'], dtype='<U32')"
            ]
          },
          "metadata": {
            "tags": []
          },
          "execution_count": 26
        }
      ]
    },
    {
      "cell_type": "code",
      "metadata": {
        "colab": {
          "base_uri": "https://localhost:8080/"
        },
        "id": "bDxNVnDIjK5l",
        "outputId": "a07c5af1-a4ce-4519-b58e-459f064dfca0"
      },
      "source": [
        "positive_words"
      ],
      "execution_count": null,
      "outputs": [
        {
          "output_type": "execute_result",
          "data": {
            "text/plain": [
              "array(['살살', '녹', '아요', ..., '정말', '맛있', '어요'], dtype='<U32')"
            ]
          },
          "metadata": {
            "tags": []
          },
          "execution_count": 27
        }
      ]
    },
    {
      "cell_type": "code",
      "metadata": {
        "id": "PNtNVPIXQbmw",
        "colab": {
          "base_uri": "https://localhost:8080/"
        },
        "outputId": "0a7fe543-96ad-4da2-edc9-f140106c0fed"
      },
      "source": [
        "negative_word_count = Counter(negative_words)\n",
        "print(negative_word_count.most_common(20))"
      ],
      "execution_count": null,
      "outputs": [
        {
          "output_type": "stream",
          "text": [
            "[('는', 5558), ('먹', 5304), ('고', 5153), ('맛', 4849), ('은', 4553), ('네요', 4042), ('어요', 3688), ('좋', 3565), ('아요', 3376), ('는데', 2975), ('도', 2856), ('그냥', 2078), ('한', 2030), ('너무', 2005), ('안', 1924), ('게', 1903), ('요', 1896), ('별로', 1777), ('없', 1701), ('구매', 1686)]\n"
          ],
          "name": "stdout"
        }
      ]
    },
    {
      "cell_type": "code",
      "metadata": {
        "id": "wawT5TsSQbmw",
        "colab": {
          "base_uri": "https://localhost:8080/"
        },
        "outputId": "72ced14a-8d12-4b98-dff9-019813a8e3bb"
      },
      "source": [
        "positive_word_count = Counter(positive_words)\n",
        "print(positive_word_count.most_common(20))"
      ],
      "execution_count": null,
      "outputs": [
        {
          "output_type": "stream",
          "text": [
            "[('좋', 8096), ('아요', 5527), ('어요', 5479), ('먹', 5355), ('맛있', 5005), ('고', 4005), ('는', 3793), ('구매', 2265), ('잘', 2237), ('게', 2180), ('도', 2164), ('네요', 1916), ('합니다', 1853), ('은', 1608), ('맛', 1511), ('있', 1467), ('자주', 1371), ('요', 1299), ('입니다', 1272), ('제품', 1191)]\n"
          ],
          "name": "stdout"
        }
      ]
    },
    {
      "cell_type": "code",
      "metadata": {
        "id": "G9Ldlr5wQbmx",
        "colab": {
          "base_uri": "https://localhost:8080/",
          "height": 406
        },
        "outputId": "da8d68f1-8fca-4d18-b80b-cc93928d9e37"
      },
      "source": [
        "fig,(ax1,ax2) = plt.subplots(1,2,figsize=(10,5))\n",
        "text_len = train_data[train_data['label']==1]['tokenized'].map(lambda x: len(x))\n",
        "ax1.hist(text_len, color='red')\n",
        "ax1.set_title('Positive Reviews')\n",
        "ax1.set_xlabel('length of samples')\n",
        "ax1.set_ylabel('number of samples')\n",
        "print('긍정 리뷰의 평균 길이 :', np.mean(text_len))\n",
        "\n",
        "text_len = train_data[train_data['label']==0]['tokenized'].map(lambda x: len(x))\n",
        "ax2.hist(text_len, color='blue')\n",
        "ax2.set_title('Negative Reviews')\n",
        "fig.suptitle('Words in texts')\n",
        "ax2.set_xlabel('length of samples')\n",
        "ax2.set_ylabel('number of samples')\n",
        "print('부정 리뷰의 평균 길이 :', np.mean(text_len))\n",
        "plt.show()"
      ],
      "execution_count": null,
      "outputs": [
        {
          "output_type": "stream",
          "text": [
            "긍정 리뷰의 평균 길이 : 7.460867822427097\n",
            "부정 리뷰의 평균 길이 : 10.624435524335173\n"
          ],
          "name": "stdout"
        },
        {
          "output_type": "display_data",
          "data": {
            "image/png": "[encoded data removed]",
            "text/plain": [
              "<Figure size 720x360 with 2 Axes>"
            ]
          },
          "metadata": {
            "tags": [],
            "needs_background": "light"
          }
        }
      ]
    },
    {
      "cell_type": "code",
      "metadata": {
        "id": "g8GN9vEAQbmx"
      },
      "source": [
        "X_train = train_data['tokenized'].values\n",
        "y_train = train_data['label'].values\n",
        "X_test= test_data['tokenized'].values\n",
        "y_test = test_data['label'].values"
      ],
      "execution_count": null,
      "outputs": []
    },
    {
      "cell_type": "code",
      "metadata": {
        "id": "DIhQ50r3Qbmx"
      },
      "source": [
        "tokenizer = Tokenizer()\n",
        "tokenizer.fit_on_texts(X_train)"
      ],
      "execution_count": null,
      "outputs": []
    },
    {
      "cell_type": "code",
      "metadata": {
        "id": "TTrwC4zPQbmx",
        "colab": {
          "base_uri": "https://localhost:8080/"
        },
        "outputId": "0284affe-1a9b-4c97-f11d-0ed4eb946de9"
      },
      "source": [
        "threshold = 2\n",
        "total_cnt = len(tokenizer.word_index) # 단어의 수\n",
        "rare_cnt = 0 # 등장 빈도수가 threshold보다 작은 단어의 개수를 카운트\n",
        "total_freq = 0 # 훈련 데이터의 전체 단어 빈도수 총 합\n",
        "rare_freq = 0 # 등장 빈도수가 threshold보다 작은 단어의 등장 빈도수의 총 합\n",
        "\n",
        "# 단어와 빈도수의 쌍(pair)을 key와 value로 받는다.\n",
        "for key, value in tokenizer.word_counts.items():\n",
        "    total_freq = total_freq + value\n",
        "\n",
        "    # 단어의 등장 빈도수가 threshold보다 작으면\n",
        "    if(value < threshold):\n",
        "        rare_cnt = rare_cnt + 1\n",
        "        rare_freq = rare_freq + value\n",
        "\n",
        "print('단어 집합(vocabulary)의 크기 :',total_cnt)\n",
        "print('등장 빈도가 %s번 이하인 희귀 단어의 수: %s'%(threshold - 1, rare_cnt))\n",
        "print(\"단어 집합에서 희귀 단어의 비율:\", (rare_cnt / total_cnt)*100)\n",
        "print(\"전체 등장 빈도에서 희귀 단어 등장 빈도 비율:\", (rare_freq / total_freq)*100)"
      ],
      "execution_count": null,
      "outputs": [
        {
          "output_type": "stream",
          "text": [
            "단어 집합(vocabulary)의 크기 : 9608\n",
            "등장 빈도가 1번 이하인 희귀 단어의 수: 4166\n",
            "단어 집합에서 희귀 단어의 비율: 43.359700249791835\n",
            "전체 등장 빈도에서 희귀 단어 등장 빈도 비율: 1.1551397619291888\n"
          ],
          "name": "stdout"
        }
      ]
    },
    {
      "cell_type": "code",
      "metadata": {
        "id": "Eq01dIHoQbmy",
        "colab": {
          "base_uri": "https://localhost:8080/"
        },
        "outputId": "5a5f7758-b75c-49f4-c4a3-8352b3608f30"
      },
      "source": [
        "vocab_size = total_cnt - rare_cnt + 2\n",
        "print('단어 집합의 크기 :',vocab_size)"
      ],
      "execution_count": null,
      "outputs": [
        {
          "output_type": "stream",
          "text": [
            "단어 집합의 크기 : 5444\n"
          ],
          "name": "stdout"
        }
      ]
    },
    {
      "cell_type": "code",
      "metadata": {
        "id": "bpVAh4FGQbmy"
      },
      "source": [
        "tokenizer = Tokenizer(vocab_size, oov_token = 'OOV') \n",
        "tokenizer.fit_on_texts(X_train)\n",
        "X_train = tokenizer.texts_to_sequences(X_train)\n",
        "X_test = tokenizer.texts_to_sequences(X_test)"
      ],
      "execution_count": null,
      "outputs": []
    },
    {
      "cell_type": "code",
      "metadata": {
        "id": "hf5eXcW-Qbmy",
        "colab": {
          "base_uri": "https://localhost:8080/",
          "height": 317
        },
        "outputId": "4732d806-c9aa-4112-a265-dcfedaa1e64e"
      },
      "source": [
        "print('리뷰의 최대 길이 :',max(len(l) for l in X_train))\n",
        "print('리뷰의 평균 길이 :',sum(map(len, X_train))/len(X_train))\n",
        "plt.hist([len(s) for s in X_train], bins=50)\n",
        "plt.xlabel('length of samples')\n",
        "plt.ylabel('number of samples')\n",
        "plt.show()"
      ],
      "execution_count": null,
      "outputs": [
        {
          "output_type": "stream",
          "text": [
            "리뷰의 최대 길이 : 608\n",
            "리뷰의 평균 길이 : 9.041541315683915\n"
          ],
          "name": "stdout"
        },
        {
          "output_type": "display_data",
          "data": {
            "image/png": "[encoded data removed]",
            "text/plain": [
              "<Figure size 432x288 with 1 Axes>"
            ]
          },
          "metadata": {
            "tags": [],
            "needs_background": "light"
          }
        }
      ]
    },
    {
      "cell_type": "code",
      "metadata": {
        "id": "A1u_LGCAQbmy"
      },
      "source": [
        "def below_threshold_len(max_len, nested_list):\n",
        "  cnt = 0\n",
        "  for s in nested_list:\n",
        "    if(len(s) <= max_len):\n",
        "      cnt = cnt + 1\n",
        "  print('전체 샘플 중 길이가 %s 이하인 샘플의 비율: %s'%(max_len, (cnt / len(nested_list))*100))"
      ],
      "execution_count": null,
      "outputs": []
    },
    {
      "cell_type": "code",
      "metadata": {
        "id": "QuIJOgVFQbmy",
        "colab": {
          "base_uri": "https://localhost:8080/"
        },
        "outputId": "e91a7483-4da5-402c-9fe3-668885a7948e"
      },
      "source": [
        "max_len = 70\n",
        "below_threshold_len(max_len, X_train)"
      ],
      "execution_count": null,
      "outputs": [
        {
          "output_type": "stream",
          "text": [
            "전체 샘플 중 길이가 70 이하인 샘플의 비율: 99.63648215002006\n"
          ],
          "name": "stdout"
        }
      ]
    },
    {
      "cell_type": "code",
      "metadata": {
        "id": "aHaFUO7AQbmz"
      },
      "source": [
        "X_train = pad_sequences(X_train, maxlen = max_len)\n",
        "X_test = pad_sequences(X_test, maxlen = max_len)"
      ],
      "execution_count": null,
      "outputs": []
    },
    {
      "cell_type": "code",
      "metadata": {
        "id": "DIy0RxIGQbmz"
      },
      "source": [
        "from tensorflow.keras.layers import Embedding, Dense, GRU\n",
        "from tensorflow.keras.models import Sequential\n",
        "from tensorflow.keras.models import load_model\n",
        "from tensorflow.keras.callbacks import EarlyStopping, ModelCheckpoint\n",
        "\n",
        "model = Sequential()\n",
        "model.add(Embedding(vocab_size, 100))\n",
        "model.add(GRU(128))\n",
        "model.add(Dense(1, activation='sigmoid'))"
      ],
      "execution_count": null,
      "outputs": []
    },
    {
      "cell_type": "code",
      "metadata": {
        "scrolled": true,
        "id": "zqy8UwPbQbmz",
        "colab": {
          "base_uri": "https://localhost:8080/"
        },
        "outputId": "b99587a8-8aef-48da-fc14-a6662b09d292"
      },
      "source": [
        "es = EarlyStopping(monitor='val_loss', mode='min', verbose=1, patience=4)\n",
        "mc = ModelCheckpoint('best_model.h5', monitor='val_acc', mode='max', verbose=1, save_best_only=True)\n",
        "\n",
        "model.compile(optimizer='rmsprop', loss='binary_crossentropy', metrics=['acc'])\n",
        "history = model.fit(X_train, y_train, epochs=15, callbacks=[es, mc], batch_size=60, validation_split=0.2)"
      ],
      "execution_count": null,
      "outputs": [
        {
          "output_type": "stream",
          "text": [
            "Epoch 1/15\n",
            "532/532 [==============================] - 14s 11ms/step - loss: 0.4722 - acc: 0.7832 - val_loss: 0.3701 - val_acc: 0.8433\n",
            "\n",
            "Epoch 00001: val_acc improved from -inf to 0.84332, saving model to best_model.h5\n",
            "Epoch 2/15\n",
            "532/532 [==============================] - 5s 9ms/step - loss: 0.3582 - acc: 0.8471 - val_loss: 0.3648 - val_acc: 0.8468\n",
            "\n",
            "Epoch 00002: val_acc improved from 0.84332 to 0.84683, saving model to best_model.h5\n",
            "Epoch 3/15\n",
            "532/532 [==============================] - 5s 9ms/step - loss: 0.3426 - acc: 0.8553 - val_loss: 0.3575 - val_acc: 0.8523\n",
            "\n",
            "Epoch 00003: val_acc improved from 0.84683 to 0.85234, saving model to best_model.h5\n",
            "Epoch 4/15\n",
            "532/532 [==============================] - 5s 9ms/step - loss: 0.3295 - acc: 0.8603 - val_loss: 0.3577 - val_acc: 0.8506\n",
            "\n",
            "Epoch 00004: val_acc did not improve from 0.85234\n",
            "Epoch 5/15\n",
            "532/532 [==============================] - 5s 9ms/step - loss: 0.3249 - acc: 0.8626 - val_loss: 0.3557 - val_acc: 0.8501\n",
            "\n",
            "Epoch 00005: val_acc did not improve from 0.85234\n",
            "Epoch 6/15\n",
            "532/532 [==============================] - 5s 9ms/step - loss: 0.3111 - acc: 0.8687 - val_loss: 0.3561 - val_acc: 0.8518\n",
            "\n",
            "Epoch 00006: val_acc did not improve from 0.85234\n",
            "Epoch 7/15\n",
            "532/532 [==============================] - 5s 10ms/step - loss: 0.3083 - acc: 0.8719 - val_loss: 0.3686 - val_acc: 0.8462\n",
            "\n",
            "Epoch 00007: val_acc did not improve from 0.85234\n",
            "Epoch 8/15\n",
            "532/532 [==============================] - 5s 10ms/step - loss: 0.2986 - acc: 0.8744 - val_loss: 0.3584 - val_acc: 0.8520\n",
            "\n",
            "Epoch 00008: val_acc did not improve from 0.85234\n",
            "Epoch 9/15\n",
            "532/532 [==============================] - 5s 9ms/step - loss: 0.2964 - acc: 0.8751 - val_loss: 0.3646 - val_acc: 0.8482\n",
            "\n",
            "Epoch 00009: val_acc did not improve from 0.85234\n",
            "Epoch 00009: early stopping\n"
          ],
          "name": "stdout"
        }
      ]
    },
    {
      "cell_type": "code",
      "metadata": {
        "id": "NiFYiHHHQbmz",
        "colab": {
          "base_uri": "https://localhost:8080/"
        },
        "outputId": "cfff4b89-0715-41a0-819f-e10d04fd43ed"
      },
      "source": [
        "loaded_model = load_model('best_model.h5')\n",
        "print(\"\\n 테스트 정확도: %.4f\" % (loaded_model.evaluate(X_test, y_test)[1]))"
      ],
      "execution_count": null,
      "outputs": [
        {
          "output_type": "stream",
          "text": [
            "416/416 [==============================] - 2s 4ms/step - loss: 0.3568 - acc: 0.8517\n",
            "\n",
            " 테스트 정확도: 0.8517\n"
          ],
          "name": "stdout"
        }
      ]
    },
    {
      "cell_type": "code",
      "metadata": {
        "id": "PqyGve-11mjl"
      },
      "source": [
        "loaded_model = load_model('/content/drive/MyDrive/빅데이터분석_마케팅2팀/colab/merrychristmas_best_model.h5')"
      ],
      "execution_count": null,
      "outputs": []
    },
    {
      "cell_type": "code",
      "metadata": {
        "id": "UPuuxiJeQbm0",
        "colab": {
          "base_uri": "https://localhost:8080/"
        },
        "outputId": "bb78d5af-9c1b-441b-be43-2c97ef089d68"
      },
      "source": [
        "#불러올 파일의 경로를 filename 변수에 저장(변수 이름은 맘대로 하세여)\n",
        "kurly1 = pd.read_csv('/content/drive/MyDrive/빅데이터분석_마케팅2팀/colab/dataset/kurly_review_csv/shrimp_review_kurly.csv')\n",
        "len(kurly1)"
      ],
      "execution_count": null,
      "outputs": [
        {
          "output_type": "execute_result",
          "data": {
            "text/plain": [
              "90"
            ]
          },
          "metadata": {
            "tags": []
          },
          "execution_count": 205
        }
      ]
    },
    {
      "cell_type": "code",
      "metadata": {
        "colab": {
          "base_uri": "https://localhost:8080/",
          "height": 204
        },
        "id": "Cw-vf0DvXOAc",
        "outputId": "b72efb9f-56cc-4161-b1c4-ae8fb8763c14"
      },
      "source": [
        "kurly1.head()"
      ],
      "execution_count": null,
      "outputs": [
        {
          "output_type": "execute_result",
          "data": {
            "text/html": [
              "<div>\n",
              "<style scoped>\n",
              "    .dataframe tbody tr th:only-of-type {\n",
              "        vertical-align: middle;\n",
              "    }\n",
              "\n",
              "    .dataframe tbody tr th {\n",
              "        vertical-align: top;\n",
              "    }\n",
              "\n",
              "    .dataframe thead th {\n",
              "        text-align: right;\n",
              "    }\n",
              "</style>\n",
              "<table border=\"1\" class=\"dataframe\">\n",
              "  <thead>\n",
              "    <tr style=\"text-align: right;\">\n",
              "      <th></th>\n",
              "      <th>comment</th>\n",
              "      <th>date</th>\n",
              "    </tr>\n",
              "  </thead>\n",
              "  <tbody>\n",
              "    <tr>\n",
              "      <th>0</th>\n",
              "      <td>떡볶이랑 같이 해서 떡볶이소스 묻혀서 먹었는데 맛나욯 튀김옷이 좀 두껍긴 하네요</td>\n",
              "      <td>2020-12-16</td>\n",
              "    </tr>\n",
              "    <tr>\n",
              "      <th>1</th>\n",
              "      <td>카레 만들어서 에어프라이어에 구운 새우꼬체를 얹어 먹었더니근사한 한끼가 되었어요</td>\n",
              "      <td>2020-12-16</td>\n",
              "    </tr>\n",
              "    <tr>\n",
              "      <th>2</th>\n",
              "      <td>맛이 아주 근사하진 않지만가격이 좋네요</td>\n",
              "      <td>2020-12-14</td>\n",
              "    </tr>\n",
              "    <tr>\n",
              "      <th>3</th>\n",
              "      <td>맛있어요 다만 익히는데 생각보다 오래걸리네요</td>\n",
              "      <td>2020-12-13</td>\n",
              "    </tr>\n",
              "    <tr>\n",
              "      <th>4</th>\n",
              "      <td>그냥 새우에 빵가루 튀김옷 붙여놓은 느낌튀김옷에서 허브갈릭향이 나서 새우와 맛에 조...</td>\n",
              "      <td>2020-12-13</td>\n",
              "    </tr>\n",
              "  </tbody>\n",
              "</table>\n",
              "</div>"
            ],
            "text/plain": [
              "                                             comment        date\n",
              "0       떡볶이랑 같이 해서 떡볶이소스 묻혀서 먹었는데 맛나욯 튀김옷이 좀 두껍긴 하네요  2020-12-16\n",
              "1       카레 만들어서 에어프라이어에 구운 새우꼬체를 얹어 먹었더니근사한 한끼가 되었어요  2020-12-16\n",
              "2                              맛이 아주 근사하진 않지만가격이 좋네요  2020-12-14\n",
              "3                           맛있어요 다만 익히는데 생각보다 오래걸리네요  2020-12-13\n",
              "4  그냥 새우에 빵가루 튀김옷 붙여놓은 느낌튀김옷에서 허브갈릭향이 나서 새우와 맛에 조...  2020-12-13"
            ]
          },
          "metadata": {
            "tags": []
          },
          "execution_count": 206
        }
      ]
    },
    {
      "cell_type": "code",
      "metadata": {
        "id": "HHW1qmMiQbmz"
      },
      "source": [
        "def kurly_predict(new_sentence):\n",
        "    new_sentence = mecab.morphs(new_sentence) # 토큰화\n",
        "    new_sentence = [word for word in new_sentence if not word in stopwords_ex] # 불용어 제거\n",
        "    encoded = tokenizer.texts_to_sequences([new_sentence]) # 정수 인코딩\n",
        "    pad_new = pad_sequences(encoded, maxlen = max_len) # 패딩\n",
        "    score = float(loaded_model.predict(pad_new)) # 예측\n",
        "    return score"
      ],
      "execution_count": null,
      "outputs": []
    },
    {
      "cell_type": "code",
      "metadata": {
        "colab": {
          "base_uri": "https://localhost:8080/"
        },
        "id": "mkX6uLsY0EmB",
        "outputId": "78b3de76-9659-44ea-e1bb-3d3c6d5eb462"
      },
      "source": [
        "kurly1.drop_duplicates(subset = ['comment'], inplace=True) # 중복 제거\n",
        "kurly1['comment'] = kurly1['comment'].str.replace(\"[^가-힣 ]\",\"\") # 정규 표현식 수행\n",
        "kurly1['comment'].replace('', np.nan, inplace=True) # 공백은 Null 값으로 변경\n",
        "kurly1 = kurly1.dropna(how='any') # Null 값 제거\n",
        "print('전처리 후 샘플의 개수 :',len(kurly1))"
      ],
      "execution_count": null,
      "outputs": [
        {
          "output_type": "stream",
          "text": [
            "전처리 후 샘플의 개수 : 89\n"
          ],
          "name": "stdout"
        }
      ]
    },
    {
      "cell_type": "code",
      "metadata": {
        "id": "pgg71EGoyG3X"
      },
      "source": [
        "kurly1_label=[]\n",
        "for i in kurly1.comment:\n",
        "  if kurly_predict(i)>0.5: \n",
        "    kurly1_label.append(1)\n",
        "  else:\n",
        "    kurly1_label.append(0)"
      ],
      "execution_count": null,
      "outputs": []
    },
    {
      "cell_type": "code",
      "metadata": {
        "id": "DZDFkE-kzXO1"
      },
      "source": [
        "kurly1['label'] = kurly1_label"
      ],
      "execution_count": null,
      "outputs": []
    },
    {
      "cell_type": "code",
      "metadata": {
        "colab": {
          "base_uri": "https://localhost:8080/"
        },
        "id": "3CjQVbz8f2RU",
        "outputId": "64a00bc0-349a-4546-b525-6187a523bb6a"
      },
      "source": [
        "kurly1[kurly1.label==0].count()"
      ],
      "execution_count": null,
      "outputs": [
        {
          "output_type": "execute_result",
          "data": {
            "text/plain": [
              "comment    39\n",
              "date       39\n",
              "label      39\n",
              "dtype: int64"
            ]
          },
          "metadata": {
            "tags": []
          },
          "execution_count": 211
        }
      ]
    },
    {
      "cell_type": "code",
      "metadata": {
        "colab": {
          "base_uri": "https://localhost:8080/"
        },
        "id": "15u94omwjD8e",
        "outputId": "33bb42f1-6aad-45bd-9549-996d49108dca"
      },
      "source": [
        "kurly1[kurly1.label==1].count()"
      ],
      "execution_count": null,
      "outputs": [
        {
          "output_type": "execute_result",
          "data": {
            "text/plain": [
              "comment    50\n",
              "date       50\n",
              "label      50\n",
              "dtype: int64"
            ]
          },
          "metadata": {
            "tags": []
          },
          "execution_count": 212
        }
      ]
    },
    {
      "cell_type": "code",
      "metadata": {
        "id": "wJ_HnDDS6z1N",
        "colab": {
          "base_uri": "https://localhost:8080/",
          "height": 204
        },
        "outputId": "40036ec0-c34e-4515-f856-b1484d3bf5a8"
      },
      "source": [
        "kurly1.head()"
      ],
      "execution_count": null,
      "outputs": [
        {
          "output_type": "execute_result",
          "data": {
            "text/html": [
              "<div>\n",
              "<style scoped>\n",
              "    .dataframe tbody tr th:only-of-type {\n",
              "        vertical-align: middle;\n",
              "    }\n",
              "\n",
              "    .dataframe tbody tr th {\n",
              "        vertical-align: top;\n",
              "    }\n",
              "\n",
              "    .dataframe thead th {\n",
              "        text-align: right;\n",
              "    }\n",
              "</style>\n",
              "<table border=\"1\" class=\"dataframe\">\n",
              "  <thead>\n",
              "    <tr style=\"text-align: right;\">\n",
              "      <th></th>\n",
              "      <th>comment</th>\n",
              "      <th>date</th>\n",
              "      <th>label</th>\n",
              "    </tr>\n",
              "  </thead>\n",
              "  <tbody>\n",
              "    <tr>\n",
              "      <th>0</th>\n",
              "      <td>떡볶이랑 같이 해서 떡볶이소스 묻혀서 먹었는데 맛나욯 튀김옷이 좀 두껍긴 하네요</td>\n",
              "      <td>2020-12-16</td>\n",
              "      <td>0</td>\n",
              "    </tr>\n",
              "    <tr>\n",
              "      <th>1</th>\n",
              "      <td>카레 만들어서 에어프라이어에 구운 새우꼬체를 얹어 먹었더니근사한 한끼가 되었어요</td>\n",
              "      <td>2020-12-16</td>\n",
              "      <td>1</td>\n",
              "    </tr>\n",
              "    <tr>\n",
              "      <th>2</th>\n",
              "      <td>맛이 아주 근사하진 않지만가격이 좋네요</td>\n",
              "      <td>2020-12-14</td>\n",
              "      <td>1</td>\n",
              "    </tr>\n",
              "    <tr>\n",
              "      <th>3</th>\n",
              "      <td>맛있어요 다만 익히는데 생각보다 오래걸리네요</td>\n",
              "      <td>2020-12-13</td>\n",
              "      <td>1</td>\n",
              "    </tr>\n",
              "    <tr>\n",
              "      <th>4</th>\n",
              "      <td>그냥 새우에 빵가루 튀김옷 붙여놓은 느낌튀김옷에서 허브갈릭향이 나서 새우와 맛에 조...</td>\n",
              "      <td>2020-12-13</td>\n",
              "      <td>0</td>\n",
              "    </tr>\n",
              "  </tbody>\n",
              "</table>\n",
              "</div>"
            ],
            "text/plain": [
              "                                             comment        date  label\n",
              "0       떡볶이랑 같이 해서 떡볶이소스 묻혀서 먹었는데 맛나욯 튀김옷이 좀 두껍긴 하네요  2020-12-16      0\n",
              "1       카레 만들어서 에어프라이어에 구운 새우꼬체를 얹어 먹었더니근사한 한끼가 되었어요  2020-12-16      1\n",
              "2                              맛이 아주 근사하진 않지만가격이 좋네요  2020-12-14      1\n",
              "3                           맛있어요 다만 익히는데 생각보다 오래걸리네요  2020-12-13      1\n",
              "4  그냥 새우에 빵가루 튀김옷 붙여놓은 느낌튀김옷에서 허브갈릭향이 나서 새우와 맛에 조...  2020-12-13      0"
            ]
          },
          "metadata": {
            "tags": []
          },
          "execution_count": 213
        }
      ]
    },
    {
      "cell_type": "code",
      "metadata": {
        "id": "CChAYhikZcel"
      },
      "source": [
        "# with pd.option_context('display.max_rows', None, 'display.max_columns', None):\n",
        "#     print(kurly1)"
      ],
      "execution_count": null,
      "outputs": []
    },
    {
      "cell_type": "code",
      "metadata": {
        "id": "SiRZwhrbaMJf",
        "colab": {
          "base_uri": "https://localhost:8080/"
        },
        "outputId": "93e57f52-24eb-49b8-96d5-3f9709a97dd3"
      },
      "source": [
        "# type(kurly1)"
      ],
      "execution_count": null,
      "outputs": [
        {
          "output_type": "execute_result",
          "data": {
            "text/plain": [
              "pandas.core.frame.DataFrame"
            ]
          },
          "metadata": {
            "tags": []
          },
          "execution_count": 56
        }
      ]
    },
    {
      "cell_type": "code",
      "metadata": {
        "id": "dFIvf5_ckvAM"
      },
      "source": [
        "kurly1.to_csv(\"shrimp_kurly_predicted.csv\", index=False, encoding=\"utf-8-sig\")"
      ],
      "execution_count": null,
      "outputs": []
    },
    {
      "cell_type": "code",
      "metadata": {
        "id": "__XQONSXlAxj"
      },
      "source": [
        ""
      ],
      "execution_count": null,
      "outputs": []
    }
  ]
}