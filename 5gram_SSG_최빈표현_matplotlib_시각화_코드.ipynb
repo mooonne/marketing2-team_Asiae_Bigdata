{
 "cells": [
  {
   "cell_type": "code",
   "execution_count": null,
   "metadata": {},
   "outputs": [],
   "source": [
    "plt.figure(figsize=(8,10))\n",
    "plt.title('SSG 부정 리뷰 5gram 최빈 표현들 Top 10', fontsize=20)\n",
    "plt.xticks(rotation = 45 ) # x축 회전 \n",
    "g = sns.barplot(\n",
    "    data= df5.head(10),\n",
    "    x= \"words\",\n",
    "    y= \"count\"\n",
    ")\n",
    "ax = g\n",
    "for p in ax.patches:\n",
    "                ax.annotate(\"%.2f\" % p.get_height(), (p.get_x() + p.get_width() / 2., p.get_height()),\n",
    "                    ha='center', va='center', fontsize=11, color='gray', xytext=(0, 20),\n",
    "                    textcoords='offset points')\n",
    "_ = g.set_ylim(0,40) \n",
    "plt.savefig('5gramword.png', dpi=800)\n",
    "plt.show()"
   ]
  }
 ],
 "metadata": {
  "kernelspec": {
   "display_name": "Python 3",
   "language": "python",
   "name": "python3"
  },
  "language_info": {
   "codemirror_mode": {
    "name": "ipython",
    "version": 3
   },
   "file_extension": ".py",
   "mimetype": "text/x-python",
   "name": "python",
   "nbconvert_exporter": "python",
   "pygments_lexer": "ipython3",
   "version": "3.8.3"
  }
 },
 "nbformat": 4,
 "nbformat_minor": 4
}
